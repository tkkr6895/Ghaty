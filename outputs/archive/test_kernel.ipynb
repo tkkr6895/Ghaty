{
 "cells": [
  {
   "cell_type": "code",
   "execution_count": 1,
   "id": "ac7ce831",
   "metadata": {
    "execution": {
     "iopub.execute_input": "2025-10-21T17:22:08.940249Z",
     "iopub.status.busy": "2025-10-21T17:22:08.939859Z",
     "iopub.status.idle": "2025-10-21T17:22:08.952275Z",
     "shell.execute_reply": "2025-10-21T17:22:08.951064Z"
    }
   },
   "outputs": [
    {
     "name": "stdout",
     "output_type": "stream",
     "text": [
      "Kernel is working!\n",
      "Python version: 3.13.2 (tags/v3.13.2:4f8bb39, Feb  4 2025, 15:23:48) [MSC v.1942 64 bit (AMD64)]\n",
      "Executable: C:\\Users\\trkumar\\AppData\\Local\\Programs\\Python\\Python313\\python.exe\n"
     ]
    }
   ],
   "source": [
    "print('Kernel is working!')\n",
    "import sys\n",
    "print(f'Python version: {sys.version}')\n",
    "print(f'Executable: {sys.executable}')"
   ]
  }
 ],
 "metadata": {
  "kernelspec": {
   "display_name": ".venv (3.13.2)",
   "language": "python",
   "name": "python3"
  },
  "language_info": {
   "codemirror_mode": {
    "name": "ipython",
    "version": 3
   },
   "file_extension": ".py",
   "mimetype": "text/x-python",
   "name": "python",
   "nbconvert_exporter": "python",
   "pygments_lexer": "ipython3",
   "version": "3.13.2"
  }
 },
 "nbformat": 4,
 "nbformat_minor": 5
}
